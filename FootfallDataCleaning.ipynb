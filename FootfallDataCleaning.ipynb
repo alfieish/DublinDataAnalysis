{
 "cells": [
  {
   "cell_type": "code",
   "execution_count": 1,
   "metadata": {},
   "outputs": [],
   "source": [
    "import pandas as pd\n",
    "import matplotlib.pyplot as plt\n",
    "\n",
    "%matplotlib inline\n",
    "plt.rcParams['figure.figsize'] = [12, 12]"
   ]
  },
  {
   "cell_type": "code",
   "execution_count": 2,
   "metadata": {},
   "outputs": [
    {
     "name": "stdout",
     "output_type": "stream",
     "text": [
      "['Week 53(2013) -  Week 1 (2014)', 'Week 2 (2014)', 'Week 3 (2014)', 'Week 4 (2014)', 'Week 5 (2014)', 'Week 6 (2014)', 'Week7 (2014)', 'Week 8 (2014)', 'Week 9 (2014)', 'Week 10 (2014)', 'Week 11 (2014)', 'Week 12 (2014)', 'Week 13 (2014)', 'Week 14 (2014)', 'Week 15 (2014)', 'Week 16 (2014)', 'Week 17 (2014)', 'Week 18 (2014)', 'Week 19 (2014)', 'Week 20 (2014)', 'Week 21 (2014)', 'Week 22 (2014)', 'Week 23 (2014', 'Week 24 (2014)', 'Week 25 (2014)', 'Week 26 (2014)', 'Week 27 (2014)', 'Week 28 (2014)', 'Week 29(2014)', 'Week 30 (2014)', 'Week 31 (2014)', 'Week 32 (2014)', 'Week 33 (2014)', 'Week 34 (2014)']\n"
     ]
    }
   ],
   "source": [
    "xlsx = pd.ExcelFile('dublinfootfall2014.xls')\n",
    "print(xlsx.sheet_names)"
   ]
  },
  {
   "cell_type": "code",
   "execution_count": 27,
   "metadata": {},
   "outputs": [
    {
     "name": "stdout",
     "output_type": "stream",
     "text": [
      "34\n"
     ]
    }
   ],
   "source": [
    "dflist = []\n",
    "for n in xlsx.sheet_names: #Cycle through the names of each worksheet \n",
    "        dflist.append(pd.read_excel(xls, n)) # Use the names to create Dfs and append them to a list\n",
    "print(len(dflist))"
   ]
  },
  {
   "cell_type": "code",
   "execution_count": 25,
   "metadata": {},
   "outputs": [],
   "source": [
    "path = 'dublinfootfall2014.xls'\n",
    "#testDF = pd.read_excel(path, header=None)\n",
    "\n",
    "testDF = dflist[0]"
   ]
  },
  {
   "cell_type": "code",
   "execution_count": 26,
   "metadata": {
    "scrolled": true
   },
   "outputs": [
    {
     "data": {
      "text/html": [
       "<div>\n",
       "<style scoped>\n",
       "    .dataframe tbody tr th:only-of-type {\n",
       "        vertical-align: middle;\n",
       "    }\n",
       "\n",
       "    .dataframe tbody tr th {\n",
       "        vertical-align: top;\n",
       "    }\n",
       "\n",
       "    .dataframe thead th {\n",
       "        text-align: right;\n",
       "    }\n",
       "</style>\n",
       "<table border=\"1\" class=\"dataframe\">\n",
       "  <thead>\n",
       "    <tr style=\"text-align: right;\">\n",
       "      <th>5</th>\n",
       "      <th>Time</th>\n",
       "      <th>In</th>\n",
       "      <th>Out</th>\n",
       "      <th>In</th>\n",
       "      <th>Out</th>\n",
       "      <th>In</th>\n",
       "      <th>Out</th>\n",
       "      <th>In</th>\n",
       "      <th>Out</th>\n",
       "      <th>In</th>\n",
       "      <th>Out</th>\n",
       "      <th>In</th>\n",
       "      <th>Out</th>\n",
       "      <th>In</th>\n",
       "      <th>Out</th>\n",
       "    </tr>\n",
       "  </thead>\n",
       "  <tbody>\n",
       "    <tr>\n",
       "      <th>3</th>\n",
       "      <td>Entrance Name: O'Connell Street at Clerys</td>\n",
       "      <td>NaN</td>\n",
       "      <td>NaN</td>\n",
       "      <td>NaN</td>\n",
       "      <td>NaN</td>\n",
       "      <td>NaN</td>\n",
       "      <td>NaN</td>\n",
       "      <td>NaN</td>\n",
       "      <td>NaN</td>\n",
       "      <td>NaN</td>\n",
       "      <td>NaN</td>\n",
       "      <td>NaN</td>\n",
       "      <td>NaN</td>\n",
       "      <td>NaN</td>\n",
       "      <td>NaN</td>\n",
       "    </tr>\n",
       "    <tr>\n",
       "      <th>6</th>\n",
       "      <td>00:00:00</td>\n",
       "      <td>181</td>\n",
       "      <td>352</td>\n",
       "      <td>113</td>\n",
       "      <td>150</td>\n",
       "      <td>54</td>\n",
       "      <td>89</td>\n",
       "      <td>118</td>\n",
       "      <td>149</td>\n",
       "      <td>109</td>\n",
       "      <td>144</td>\n",
       "      <td>286</td>\n",
       "      <td>229</td>\n",
       "      <td>196</td>\n",
       "      <td>152</td>\n",
       "    </tr>\n",
       "    <tr>\n",
       "      <th>7</th>\n",
       "      <td>01:00:00</td>\n",
       "      <td>46</td>\n",
       "      <td>123</td>\n",
       "      <td>36</td>\n",
       "      <td>58</td>\n",
       "      <td>19</td>\n",
       "      <td>36</td>\n",
       "      <td>36</td>\n",
       "      <td>71</td>\n",
       "      <td>45</td>\n",
       "      <td>69</td>\n",
       "      <td>121</td>\n",
       "      <td>161</td>\n",
       "      <td>85</td>\n",
       "      <td>101</td>\n",
       "    </tr>\n",
       "    <tr>\n",
       "      <th>8</th>\n",
       "      <td>02:00:00</td>\n",
       "      <td>22</td>\n",
       "      <td>47</td>\n",
       "      <td>15</td>\n",
       "      <td>38</td>\n",
       "      <td>5</td>\n",
       "      <td>28</td>\n",
       "      <td>12</td>\n",
       "      <td>32</td>\n",
       "      <td>27</td>\n",
       "      <td>51</td>\n",
       "      <td>61</td>\n",
       "      <td>151</td>\n",
       "      <td>69</td>\n",
       "      <td>105</td>\n",
       "    </tr>\n",
       "    <tr>\n",
       "      <th>9</th>\n",
       "      <td>03:00:00</td>\n",
       "      <td>5</td>\n",
       "      <td>35</td>\n",
       "      <td>9</td>\n",
       "      <td>25</td>\n",
       "      <td>5</td>\n",
       "      <td>18</td>\n",
       "      <td>14</td>\n",
       "      <td>33</td>\n",
       "      <td>25</td>\n",
       "      <td>43</td>\n",
       "      <td>60</td>\n",
       "      <td>145</td>\n",
       "      <td>31</td>\n",
       "      <td>110</td>\n",
       "    </tr>\n",
       "  </tbody>\n",
       "</table>\n",
       "</div>"
      ],
      "text/plain": [
       "5                                       Time   In  Out   In  Out   In  Out  \\\n",
       "3  Entrance Name: O'Connell Street at Clerys  NaN  NaN  NaN  NaN  NaN  NaN   \n",
       "6                                   00:00:00  181  352  113  150   54   89   \n",
       "7                                   01:00:00   46  123   36   58   19   36   \n",
       "8                                   02:00:00   22   47   15   38    5   28   \n",
       "9                                   03:00:00    5   35    9   25    5   18   \n",
       "\n",
       "5   In  Out   In  Out   In  Out   In  Out  \n",
       "3  NaN  NaN  NaN  NaN  NaN  NaN  NaN  NaN  \n",
       "6  118  149  109  144  286  229  196  152  \n",
       "7   36   71   45   69  121  161   85  101  \n",
       "8   12   32   27   51   61  151   69  105  \n",
       "9   14   33   25   43   60  145   31  110  "
      ]
     },
     "execution_count": 26,
     "metadata": {},
     "output_type": "execute_result"
    }
   ],
   "source": [
    "def clean_worksheet(df):\n",
    "    df.drop(df.index[:3], inplace=True) #Drop the title of the sheet\n",
    "    df.drop(df.columns[15:],axis=1, inplace=True) # Drop Excess Columns\n",
    "    df.columns = df.iloc[2] # Make a row with appropriate entries the column headers\n",
    "    df = df[df.Time != \"Time\"] #Drop the rows in the time column that say time\n",
    "    df = df.dropna(subset = ['Time']) # Drop blank rows in the time column\n",
    "    return df\n",
    "testDF = clean_worksheet(testDF)\n",
    "testDF.head()"
   ]
  },
  {
   "cell_type": "code",
   "execution_count": 6,
   "metadata": {},
   "outputs": [
    {
     "name": "stdout",
     "output_type": "stream",
     "text": [
      "325\n"
     ]
    }
   ],
   "source": [
    "print(len(testDF)) # Length of our cleaned DF"
   ]
  },
  {
   "cell_type": "code",
   "execution_count": 7,
   "metadata": {},
   "outputs": [
    {
     "data": {
      "text/plain": [
       "13"
      ]
     },
     "execution_count": 7,
     "metadata": {},
     "output_type": "execute_result"
    }
   ],
   "source": [
    "# Create a set of DFs that are each 25 rows long. ie the title and 24 hours for each carpark\n",
    "def sheet_spliter(df):\n",
    "    newdfs = [df.iloc[25*n:25*(n+1)] for n in range(int(len(df)/25))] \n",
    "    return (newdfs)\n",
    "list_of_dfs = [testDF.iloc[25*n:25*(n+1)] for n in range(int(len(testDF)/25))] \n",
    "list_of_dfs = sheet_splitter(testDF)\n",
    "len(list_of_dfs)"
   ]
  },
  {
   "cell_type": "code",
   "execution_count": 8,
   "metadata": {},
   "outputs": [
    {
     "name": "stdout",
     "output_type": "stream",
     "text": [
      "Entrance Name: O'Connell Street at Clerys\n"
     ]
    },
    {
     "data": {
      "text/html": [
       "<div>\n",
       "<style scoped>\n",
       "    .dataframe tbody tr th:only-of-type {\n",
       "        vertical-align: middle;\n",
       "    }\n",
       "\n",
       "    .dataframe tbody tr th {\n",
       "        vertical-align: top;\n",
       "    }\n",
       "\n",
       "    .dataframe thead th {\n",
       "        text-align: right;\n",
       "    }\n",
       "</style>\n",
       "<table border=\"1\" class=\"dataframe\">\n",
       "  <thead>\n",
       "    <tr style=\"text-align: right;\">\n",
       "      <th>6</th>\n",
       "      <th>Time</th>\n",
       "      <th>In</th>\n",
       "      <th>Out</th>\n",
       "      <th>In</th>\n",
       "      <th>Out</th>\n",
       "      <th>In</th>\n",
       "      <th>Out</th>\n",
       "      <th>In</th>\n",
       "      <th>Out</th>\n",
       "      <th>In</th>\n",
       "      <th>Out</th>\n",
       "      <th>In</th>\n",
       "      <th>Out</th>\n",
       "      <th>In</th>\n",
       "      <th>Out</th>\n",
       "    </tr>\n",
       "  </thead>\n",
       "  <tbody>\n",
       "    <tr>\n",
       "      <th>7</th>\n",
       "      <td>00:00:00</td>\n",
       "      <td>181</td>\n",
       "      <td>352</td>\n",
       "      <td>113</td>\n",
       "      <td>150</td>\n",
       "      <td>54</td>\n",
       "      <td>89</td>\n",
       "      <td>118</td>\n",
       "      <td>149</td>\n",
       "      <td>109</td>\n",
       "      <td>144</td>\n",
       "      <td>286</td>\n",
       "      <td>229</td>\n",
       "      <td>196</td>\n",
       "      <td>152</td>\n",
       "    </tr>\n",
       "    <tr>\n",
       "      <th>8</th>\n",
       "      <td>01:00:00</td>\n",
       "      <td>46</td>\n",
       "      <td>123</td>\n",
       "      <td>36</td>\n",
       "      <td>58</td>\n",
       "      <td>19</td>\n",
       "      <td>36</td>\n",
       "      <td>36</td>\n",
       "      <td>71</td>\n",
       "      <td>45</td>\n",
       "      <td>69</td>\n",
       "      <td>121</td>\n",
       "      <td>161</td>\n",
       "      <td>85</td>\n",
       "      <td>101</td>\n",
       "    </tr>\n",
       "    <tr>\n",
       "      <th>9</th>\n",
       "      <td>02:00:00</td>\n",
       "      <td>22</td>\n",
       "      <td>47</td>\n",
       "      <td>15</td>\n",
       "      <td>38</td>\n",
       "      <td>5</td>\n",
       "      <td>28</td>\n",
       "      <td>12</td>\n",
       "      <td>32</td>\n",
       "      <td>27</td>\n",
       "      <td>51</td>\n",
       "      <td>61</td>\n",
       "      <td>151</td>\n",
       "      <td>69</td>\n",
       "      <td>105</td>\n",
       "    </tr>\n",
       "  </tbody>\n",
       "</table>\n",
       "</div>"
      ],
      "text/plain": [
       "6      Time   In  Out   In  Out  In Out   In  Out   In  Out   In  Out   In  \\\n",
       "7  00:00:00  181  352  113  150  54  89  118  149  109  144  286  229  196   \n",
       "8  01:00:00   46  123   36   58  19  36   36   71   45   69  121  161   85   \n",
       "9  02:00:00   22   47   15   38   5  28   12   32   27   51   61  151   69   \n",
       "\n",
       "6  Out  \n",
       "7  152  \n",
       "8  101  \n",
       "9  105  "
      ]
     },
     "execution_count": 8,
     "metadata": {},
     "output_type": "execute_result"
    }
   ],
   "source": [
    "OCDF = list_of_dfs[0] # Take one DF as an example\n",
    "name = OCDF.iloc[0]['Time']\n",
    "print(name)\n",
    "OCDF = OCDF.drop(OCDF.index[:1]) # Remove the row with the carpark name\n",
    "OCDF.head(3)"
   ]
  },
  {
   "cell_type": "code",
   "execution_count": 9,
   "metadata": {
    "scrolled": true
   },
   "outputs": [],
   "source": [
    "# Put the above into a function to apply it to the set of DFs\n",
    "def name_data_pair(dfList):\n",
    "    outlist = []\n",
    "    for df in dfList:\n",
    "        pair = []\n",
    "        pair.append(df.iloc[0]['Time'])\n",
    "        outDF = df.drop(df.index[:1])\n",
    "        pair.append(outDF)\n",
    "        outlist.append(pair)\n",
    "    return outlist\n",
    "\n",
    "carpark_pairs = name_data_pair(list_of_dfs) # Function applied to our list from above"
   ]
  },
  {
   "cell_type": "code",
   "execution_count": 30,
   "metadata": {
    "scrolled": true
   },
   "outputs": [
    {
     "name": "stdout",
     "output_type": "stream",
     "text": [
      "6           Time   In  Out\n",
      "count        168  168  168\n",
      "unique        24  156  155\n",
      "top     11:00:00    5   15\n",
      "freq           7    5    3\n",
      "\n",
      "6      Time   In  Out\n",
      "0  00:00:00  181  352\n",
      "1  01:00:00   46  123\n",
      "2  02:00:00   22   47\n",
      "3  03:00:00    5   35\n"
     ]
    }
   ],
   "source": [
    "#combine three previously separate steps into a function to apply them to a DF and transform it\n",
    "def week_unstack(df):\n",
    "    steps = list(range(1, 15, 2))\n",
    "    day_dfs = [df.iloc[:,[0,n,n+1]] for n in steps] # list comprehension walks down steps an pairs in and out data with hours\n",
    "    outDF = pd.concat(day_dfs) # individual dfs are appended to each other to make a week long DF\n",
    "    outDF.reset_index(drop=True,inplace=True) #index of the DF is reset\n",
    "    return outDF  \n",
    "\n",
    "newOCDF = week_unstack(OCDF) # testing it out on our O'Connell Street DF\n",
    "print(newOCDF.describe())\n",
    "print()\n",
    "print(newOCDF.head(4))"
   ]
  },
  {
   "cell_type": "code",
   "execution_count": 11,
   "metadata": {},
   "outputs": [
    {
     "data": {
      "text/plain": [
       "[\"Entrance Name: O'Connell Street at Clerys\", 6        Time    In   Out\n",
       " 0    00:00:00   181   352\n",
       " 1    01:00:00    46   123\n",
       " 2    02:00:00    22    47\n",
       " 3    03:00:00     5    35\n",
       " 4    04:00:00     7    26\n",
       " 5    05:00:00    41    15\n",
       " 6    06:00:00   216    62\n",
       " 7    07:00:00   614   227\n",
       " 8    08:00:00  1244   527\n",
       " 9    09:00:00  1194   699\n",
       " 10   10:00:00  1401   956\n",
       " 11   11:00:00  1471  1067\n",
       " 12   12:00:00  1845  1252\n",
       " 13   13:00:00  2195  1546\n",
       " 14   14:00:00  2068  1440\n",
       " 15   15:00:00  2089  1394\n",
       " 16   16:00:00  2059  1310\n",
       " 17   17:00:00  2098  1395\n",
       " 18   18:00:00  1890  1135\n",
       " 19   19:00:00  1297   842\n",
       " 20   20:00:00   789   631\n",
       " 21   21:00:00   651   510\n",
       " 22   22:00:00   628   411\n",
       " 23   23:00:00   324   320\n",
       " 24   00:00:00   113   150\n",
       " 25   01:00:00    36    58\n",
       " 26   02:00:00    15    38\n",
       " 27   03:00:00     9    25\n",
       " 28   04:00:00     5    14\n",
       " 29   05:00:00    35    14\n",
       " ..        ...   ...   ...\n",
       " 138  18:00:00  1820  1048\n",
       " 139  19:00:00  1254   830\n",
       " 140  20:00:00   744   553\n",
       " 141  21:00:00   621   440\n",
       " 142  22:00:00   628   394\n",
       " 143  23:00:00   485   363\n",
       " 144  00:00:00   196   152\n",
       " 145  01:00:00    85   101\n",
       " 146  02:00:00    69   105\n",
       " 147  03:00:00    31   110\n",
       " 148  04:00:00    17    49\n",
       " 149  05:00:00    10    15\n",
       " 150  06:00:00    39    26\n",
       " 151  07:00:00    53    36\n",
       " 152  08:00:00   109    55\n",
       " 153  09:00:00   238   134\n",
       " 154  10:00:00   410   249\n",
       " 155  11:00:00   505   407\n",
       " 156  12:00:00   613   547\n",
       " 157  13:00:00   662   553\n",
       " 158  14:00:00   723   526\n",
       " 159  15:00:00   786   528\n",
       " 160  16:00:00   954   520\n",
       " 161  17:00:00  1024   533\n",
       " 162  18:00:00  1235   601\n",
       " 163  19:00:00   686   466\n",
       " 164  20:00:00   390   305\n",
       " 165  21:00:00   312   262\n",
       " 166  22:00:00   253   216\n",
       " 167  23:00:00   148   169\n",
       " \n",
       " [168 rows x 3 columns]]"
      ]
     },
     "execution_count": 11,
     "metadata": {},
     "output_type": "execute_result"
    }
   ],
   "source": [
    "# apply the unstacking function to our pairs of carpark dfs from above\n",
    "for c in carpark_pairs:\n",
    "    c[1] = week_unstack(c[1])\n",
    "\n",
    "    \n",
    "carpark_pairs[0]"
   ]
  },
  {
   "cell_type": "code",
   "execution_count": 12,
   "metadata": {},
   "outputs": [
    {
     "data": {
      "image/png": "[encoded data removed]",
      "text/plain": [
       "<Figure size 864x576 with 1 Axes>"
      ]
     },
     "metadata": {
      "needs_background": "light"
     },
     "output_type": "display_data"
    }
   ],
   "source": [
    "ax = newOCDF.plot(figsize=(12,8), kind=\"line\") # Preliminary plot of foot traffic captured in the area\n",
    "plt.show()"
   ]
  },
  {
   "cell_type": "code",
   "execution_count": null,
   "metadata": {},
   "outputs": [],
   "source": []
  }
 ],
 "metadata": {
  "kernelspec": {
   "display_name": "Python 3",
   "language": "python",
   "name": "python3"
  },
  "language_info": {
   "codemirror_mode": {
    "name": "ipython",
    "version": 3
   },
   "file_extension": ".py",
   "mimetype": "text/x-python",
   "name": "python",
   "nbconvert_exporter": "python",
   "pygments_lexer": "ipython3",
   "version": "3.7.3"
  }
 },
 "nbformat": 4,
 "nbformat_minor": 2
}
